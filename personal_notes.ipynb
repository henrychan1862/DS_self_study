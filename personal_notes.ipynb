{
 "cells": [
  {
   "cell_type": "markdown",
   "id": "696991c3",
   "metadata": {},
   "source": [
    "# **DS Cheat Sheet**\n",
    "### Henry Chan"
   ]
  },
  {
   "cell_type": "markdown",
   "id": "0279b7cf",
   "metadata": {},
   "source": [
    "-----------"
   ]
  },
  {
   "cell_type": "markdown",
   "id": "1a7eb8ad",
   "metadata": {},
   "source": [
    "# Content\n",
    "1. [Sampling Method](#1.-Sampling-Method)\n",
    "1. Preprocessing\n",
    "1. [Hypothesis Test](#3.-Hypothesis-Test)\n",
    "1. Supervised ML\n",
    "1. Unsupervised ML\n",
    "1. Visulisation\n",
    "1. [Statistics](#7.-Statistics)"
   ]
  },
  {
   "cell_type": "markdown",
   "id": "3dd8f979",
   "metadata": {},
   "source": [
    "-----------"
   ]
  },
  {
   "cell_type": "markdown",
   "id": "da91d049",
   "metadata": {},
   "source": [
    "# 1. Sampling Method"
   ]
  },
  {
   "cell_type": "markdown",
   "id": "236775f0",
   "metadata": {},
   "source": [
    "## For numpy array:\n",
    "- `numpy.random.choice(x, size, replace=True)`"
   ]
  },
  {
   "cell_type": "markdown",
   "id": "ed793715",
   "metadata": {},
   "source": [
    "## For pandas DataFrame:\n",
    "- `df.sample(frac, strtified, random_state)`"
   ]
  },
  {
   "cell_type": "markdown",
   "id": "e6c9eb28",
   "metadata": {},
   "source": [
    "------------"
   ]
  },
  {
   "cell_type": "markdown",
   "id": "393c85a5",
   "metadata": {},
   "source": [
    "# 3. Hypothesis Test"
   ]
  },
  {
   "cell_type": "markdown",
   "id": "4741e26e",
   "metadata": {},
   "source": [
    "## Z-score\n",
    "- used for comparing sample to population value of interest, especially when the SE(SD) is known\n",
    "- $Z = \\frac{\\hat{X} - \\mu}{standard \\ error} = \\frac{\\hat{X} - \\mu}{\\sigma \\ / \\sqrt{n}}$\n",
    "- find p-value by `scipy.stats.norm.cdf(z)`\n",
    "- if $p < \\alpha $ then reject null hypothesis\n",
    "- p-value for RHS tail: `1 - scipy.stats.norm.cdf(z)`\n",
    "- in scipy style: `scipy.stats.ttest_1samp(array, popmean, alternative)`"
   ]
  },
  {
   "cell_type": "markdown",
   "id": "4083dbc4",
   "metadata": {},
   "source": [
    "## Bootstrapping (Standard Error)"
   ]
  },
  {
   "cell_type": "markdown",
   "id": "b5dec098",
   "metadata": {},
   "source": [
    "Bootstrap SE = Expected value of bootstrap replicates(standard deviation) ~ calculated standard error"
   ]
  },
  {
   "cell_type": "code",
   "execution_count": 127,
   "id": "f3a5ce1e",
   "metadata": {},
   "outputs": [
    {
     "name": "stdout",
     "output_type": "stream",
     "text": [
      "Bootstrap SE is 0.11374654937038005. Calculated SE is 0.11339243375361954\n"
     ]
    }
   ],
   "source": [
    "import numpy as np\n",
    "np.random.seed(123) #set the random seed\n",
    "sample = np.random.normal(loc=0,scale=1, size=100) #draw 100 samples from normal distribution\n",
    "boot_rep = [] #bootstrap replicate list\n",
    "for i in range(1000): #B=1000, basically B>100 is chosen\n",
    "    rep = np.random.choice(sample, size=len(sample))\n",
    "    boot_rep.append(np.mean(rep)) #take the mean of resampled list\n",
    "print(f\"Bootstrap SE is {np.std(boot_rep, ddof=1)}. Calculated SE is {np.std(sample, ddof=1)/np.sqrt(100)}\")"
   ]
  },
  {
   "cell_type": "markdown",
   "id": "fa9744e6",
   "metadata": {},
   "source": [
    "## t-test\n",
    "- when the population SD(SE) is unknown\n",
    "- *Individual t-test*: two groups from different population\n",
    "    - using `t, p = scipy.stats.ttest_ind(a, b, equal_var=True, alternative)`\n",
    "- *paired t-test* : two related groups e.g.pre- and post-\n",
    "    - using `t, p = scipy.stats.ttest_rel(a, b, alternative)`\n",
    "- for *alternative*: `alternative={'two-sided', 'less', 'greater'}`\n",
    "- ind.t-test: $dof = n - 2$ vs. paired t-test: $dof = n - 1$\n",
    "- when n tends to infinity, t-distribution = normal distribution\n",
    "- can also obtain p-value from `scipy.stats.t.cdf(t, df)`"
   ]
  },
  {
   "cell_type": "markdown",
   "id": "de5a5443",
   "metadata": {},
   "source": [
    "## ANOVA\n",
    "- anlysis of variance, more than two features\n"
   ]
  },
  {
   "cell_type": "markdown",
   "id": "9d3f3157",
   "metadata": {},
   "source": [
    "## Pingouin\n",
    "- first `import pinoguin`\n",
    "- t-test: `pingouin.ttest(x, y, paired=False, alternative)`\n",
    "- ANOVA: `pingouin.anova(data, dv, between)`"
   ]
  },
  {
   "cell_type": "markdown",
   "id": "30b23c00",
   "metadata": {},
   "source": [
    "------------"
   ]
  },
  {
   "cell_type": "markdown",
   "id": "c7dc6f6d",
   "metadata": {},
   "source": [
    "# 7. Statistics"
   ]
  },
  {
   "cell_type": "markdown",
   "id": "ad82e9c7",
   "metadata": {},
   "source": [
    "## Error\n",
    "- *Type I Error*: null hypothesis is True but we reject\n",
    "- *Type II Error*: null hypothesis is False but we do not reject"
   ]
  }
 ],
 "metadata": {
  "kernelspec": {
   "display_name": "Python 3 (ipykernel)",
   "language": "python",
   "name": "python3"
  },
  "language_info": {
   "codemirror_mode": {
    "name": "ipython",
    "version": 3
   },
   "file_extension": ".py",
   "mimetype": "text/x-python",
   "name": "python",
   "nbconvert_exporter": "python",
   "pygments_lexer": "ipython3",
   "version": "3.9.12"
  }
 },
 "nbformat": 4,
 "nbformat_minor": 5
}
